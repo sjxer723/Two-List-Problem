{
 "cells": [
  {
   "cell_type": "markdown",
   "metadata": {},
   "source": [
    "# The Layout Problem\n"
   ]
  },
  {
   "cell_type": "code",
   "execution_count": 1,
   "metadata": {},
   "outputs": [],
   "source": [
    "import numpy as np\n",
    "import random\n",
    "from utils import *\n",
    "from human_ai import MultiHumanAI\n",
    "from model.mallows import Mallows"
   ]
  },
  {
   "cell_type": "markdown",
   "metadata": {},
   "source": [
    "## Known Ground-Truth  \n",
    "\n",
    "Suppose there are $k$ types of humans, each with **heterogeneous** ground-truth rankings. Denote the ground-truth ranking of human $i$ as $\\pi_h^i$.  \n",
    "\n",
    "If the algorithm has full knowledge of $\\{\\pi_h^i\\}$, it can ensure that each type of human benefits from the collaboration by adopting the following strategy: always presenting a fixed set of items to the humans. \n",
    "In particular, it presents the first $k$ items as the $k$ top items of humans' ground-truth rankings.\n",
    "\n",
    "In the following experiment, \n",
    "\n",
    "* we consider `num_of_humans` types of humans, each of whom has a random ground-truth ranking.\n",
    "* These ground-truth rankings are **known** to the algorithm. \n",
    "* It takes the strategy by setting the $k$ top items as its first $k$ items of its ground-truth.\n",
    "\n",
    "We can see **every human is beneficial from the collaboration**."
   ]
  },
  {
   "cell_type": "code",
   "execution_count": 2,
   "metadata": {},
   "outputs": [
    {
     "name": "stdout",
     "output_type": "stream",
     "text": [
      "[0.3671939362260944, 0.34884193704905997]\n",
      "[0.21185074163951323, 0.36485074163951325, 0.3228507416395132]\n",
      "[0.07885074163951322, 0.03185074163951329, 0.21185074163951323, 0.1828507416395132]\n",
      "[0.1698507416395133, 0.35285074163951324, 0.25285074163951327, 0.05485074163951331, 0.20085074163951322]\n"
     ]
    }
   ],
   "source": [
    "m = 10\n",
    "phi = 1\n",
    "for num_of_humans in range(2, 6):\n",
    "    D_hs = []\n",
    "    for _ in range(num_of_humans):\n",
    "        pi_h_star = list(range(1, m + 1))\n",
    "        random.shuffle(pi_h_star)\n",
    "        D_hs.append(Mallows(m, phi, pi_h_star))\n",
    "\n",
    "    joint_system = MultiHumanAI(m, num_of_humans, D_hs, None)\n",
    "    joint_system.find_layout()\n",
    "    benefits = joint_system.benefit_of_human_single_best(num_of_humans)\n",
    "\n",
    "    print(benefits)"
   ]
  },
  {
   "cell_type": "markdown",
   "metadata": {},
   "source": [
    "## Unknown Ground-Truth\n",
    "\n",
    "However, the ground-truth rankings may not always known in advance to the algorith, especially in scenarios that protect user privacy.\n",
    "\n",
    "To learn about humans' preference, algorithm usually adopt query-based learning to learn humans' preference.\n",
    "We suppose the humans are interacting with the algorithm in the following way:\n",
    "\n",
    "* At time $t$, a human comes and a type-$i$ human comes with a probability of $p_i$.\n",
    "* The algorithm presents a set of items $S_t$ to that human. She selects her favourite one from the items (but she sometimes would make mistakes). The human will get a **postive** review if the item is perfect to her and a **negative** review otherwise.\n",
    "* The algorithm updates $S_t$ by always picking the items that human like the most\n",
    "\n"
   ]
  },
  {
   "cell_type": "code",
   "execution_count": 3,
   "metadata": {},
   "outputs": [
    {
     "name": "stdout",
     "output_type": "stream",
     "text": [
      "\u001b[94m[INFO] Number of humans 2\u001b[0m\n",
      "\u001b[94m[INFO] t: 0, benefits: [-0.6321492583604867, -0.6321492583604867]\u001b[0m\n",
      "\u001b[94m[INFO] t: 200, benefits: [0.3593302714709977, 0.2120025456139497]\u001b[0m\n",
      "\u001b[94m[INFO] t: 400, benefits: [0.3593302714709977, 0.2120025456139497]\u001b[0m\n",
      "\u001b[94m[INFO] t: 600, benefits: [0.3593302714709977, 0.2120025456139497]\u001b[0m\n",
      "\u001b[94m[INFO] t: 800, benefits: [0.3593302714709977, 0.2120025456139497]\u001b[0m\n",
      "\u001b[94m[INFO] Number of humans 3\u001b[0m\n",
      "\u001b[94m[INFO] t: 0, benefits: [-0.6321492583604867, -0.6321492583604867, 0.07185074163951322]\u001b[0m\n",
      "\u001b[94m[INFO] t: 200, benefits: [-0.6321492583604867, 0.36685074163951326, 0.3108507416395132]\u001b[0m\n",
      "\u001b[94m[INFO] t: 400, benefits: [0.2908507416395133, 0.3328507416395132, 0.3218507416395132]\u001b[0m\n",
      "\u001b[94m[INFO] t: 600, benefits: [0.2798507416395133, 0.3348507416395132, 0.3218507416395132]\u001b[0m\n",
      "\u001b[94m[INFO] t: 800, benefits: [0.2908507416395133, 0.3278507416395132, 0.3258507416395132]\u001b[0m\n",
      "\u001b[94m[INFO] Number of humans 4\u001b[0m\n",
      "\u001b[94m[INFO] t: 0, benefits: [-0.6321492583604867, 0.1628507416395133, 0.2938507416395133, -0.6321492583604867]\u001b[0m\n",
      "\u001b[94m[INFO] t: 200, benefits: [0.36085074163951325, 0.2758507416395133, -0.6321492583604867, -0.6321492583604867]\u001b[0m\n",
      "\u001b[94m[INFO] t: 400, benefits: [0.2628507416395133, 0.3158507416395132, 0.1518507416395133, -0.6321492583604867]\u001b[0m\n",
      "\u001b[94m[INFO] t: 600, benefits: [0.2848507416395133, 0.3068507416395132, 0.08385074163951323, 0.1928507416395132]\u001b[0m\n",
      "\u001b[94m[INFO] t: 800, benefits: [0.2748507416395133, 0.3078507416395132, 0.09785074163951324, 0.1878507416395132]\u001b[0m\n",
      "\u001b[94m[INFO] Number of humans 5\u001b[0m\n",
      "\u001b[94m[INFO] t: 0, benefits: [-0.6321492583604867, 0.24585074163951326, 0.09085074163951323, 0.1758507416395133, -0.6321492583604867]\u001b[0m\n",
      "\u001b[94m[INFO] t: 200, benefits: [0.3218507416395132, -0.6321492583604867, 0.09285074163951323, 0.3158507416395132, 0.05385074163951331]\u001b[0m\n",
      "\u001b[94m[INFO] t: 400, benefits: [0.3148507416395132, -0.6321492583604867, 0.08485074163951323, 0.3248507416395132, 0.07485074163951322]\u001b[0m\n",
      "\u001b[94m[INFO] t: 600, benefits: [0.3058507416395132, -0.6321492583604867, 0.3288507416395132, 0.09285074163951323, 0.2838507416395133]\u001b[0m\n",
      "\u001b[94m[INFO] t: 800, benefits: [0.1628507416395133, -0.6321492583604867, 0.33885074163951323, 0.3108507416395132, 0.2958507416395133]\u001b[0m\n"
     ]
    }
   ],
   "source": [
    "m = 10\n",
    "phi = 1\n",
    "for num_of_humans in range(2, 6):\n",
    "    info(f\"Number of humans {num_of_humans}\")\n",
    "    D_hs = []\n",
    "    \n",
    "    ## The probability of every type person arriving.\n",
    "    ps = np.array([random.random() for _ in range(num_of_humans)])\n",
    "    ps /= np.sum(ps)\n",
    "    \n",
    "    ## Generating ground-truth\n",
    "    for _ in range(num_of_humans):\n",
    "        pi_h_star = list(range(1, m + 1))\n",
    "        random.shuffle(pi_h_star)\n",
    "        D_hs.append(Mallows(m, phi, pi_h_star))\n",
    "\n",
    "    ## 1000 interactions between the algorithm and these humans\n",
    "    joint_system = MultiHumanAI(m, num_of_humans, D_hs, ps)\n",
    "    joint_system.interaction(1000, 200)"
   ]
  }
 ],
 "metadata": {
  "kernelspec": {
   "display_name": "Python 3",
   "language": "python",
   "name": "python3"
  },
  "language_info": {
   "codemirror_mode": {
    "name": "ipython",
    "version": 3
   },
   "file_extension": ".py",
   "mimetype": "text/x-python",
   "name": "python",
   "nbconvert_exporter": "python",
   "pygments_lexer": "ipython3",
   "version": "3.9.6"
  }
 },
 "nbformat": 4,
 "nbformat_minor": 2
}
