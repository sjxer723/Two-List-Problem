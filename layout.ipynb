{
 "cells": [
  {
   "cell_type": "markdown",
   "metadata": {},
   "source": [
    "# The Layout Problem\n"
   ]
  },
  {
   "cell_type": "code",
   "execution_count": 44,
   "metadata": {},
   "outputs": [],
   "source": [
    "import numpy as np\n",
    "import random\n",
    "from utils import *\n",
    "import matplotlib.pyplot as plt\n",
    "from human_ai import HumanAI \n",
    "from human_ai import MultiHumanAI\n",
    "from model.mallows import Mallows"
   ]
  },
  {
   "cell_type": "markdown",
   "metadata": {},
   "source": [
    "## Known Ground-Truth  \n",
    "\n",
    "Suppose there are $k$ types of humans, each with **heterogeneous** ground-truth rankings. Denote the ground-truth ranking of human $i$ as $\\pi_h^i$.  \n",
    "\n",
    "If the algorithm has full knowledge of $\\{\\pi_h^i\\}$, it can ensure that each type of human benefits from the collaboration by adopting the following strategy: \n",
    "\n",
    "* *Always presenting a fixed set of items to the humans. Specifically, the presented $k$ items are the $k$ top items according to humans' ground-truth rankings.*\n",
    "\n",
    "In the following experiment, \n",
    "\n",
    "* we consider `num_of_humans` types of humans, each of whom has a random ground-truth ranking.\n",
    "* These ground-truth rankings are **known** to the algorithm. \n",
    "* It takes the strategy by setting the $k$ top items as its first $k$ items of its ground-truth.\n",
    "\n",
    "We can see **every human is beneficial from the collaboration**."
   ]
  },
  {
   "cell_type": "code",
   "execution_count": 2,
   "metadata": {},
   "outputs": [
    {
     "name": "stdout",
     "output_type": "stream",
     "text": [
      "\u001b[94m[INFO] Sythesizing a layout..\u001b[0m\n",
      "\u001b[94m[INFO] benefits: [0.3593302714709977, 0.36627696535629906]\u001b[0m\n",
      "\u001b[94m[INFO] Sythesizing a layout..\u001b[0m\n",
      "\u001b[94m[INFO] benefits: [0.11385074163951325, 0.33785074163951323, 0.3298507416395132]\u001b[0m\n",
      "\u001b[94m[INFO] Sythesizing a layout..\u001b[0m\n",
      "\u001b[94m[INFO] benefits: [0.2908507416395133, 0.35685074163951325, 0.2638507416395133, 0.20185074163951322]\u001b[0m\n",
      "\u001b[94m[INFO] Sythesizing a layout..\u001b[0m\n",
      "\u001b[94m[INFO] benefits: [0.09885074163951324, 0.07785074163951322, 0.1858507416395132, 0.33985074163951323, 0.01985074163951328]\u001b[0m\n"
     ]
    }
   ],
   "source": [
    "m = 10\n",
    "phi = 1\n",
    "for num_of_humans in range(2, 6):\n",
    "    D_hs = []\n",
    "    for _ in range(num_of_humans):\n",
    "        pi_h_star = list(range(1, m + 1))\n",
    "        random.shuffle(pi_h_star)\n",
    "        D_hs.append(Mallows(m, phi, pi_h_star))\n",
    "\n",
    "    joint_system = MultiHumanAI(m, num_of_humans, D_hs, None)\n",
    "    benefits = joint_system.interaction_with_known_distribution()"
   ]
  },
  {
   "cell_type": "markdown",
   "metadata": {},
   "source": [
    "### Maximizing Social Welfare Using Gradient Descent\n",
    "\n",
    "When the ground-truth rankings of different misaligned humans are known in advance, it is desirable to find a *welfare-maximizing* layout. \n",
    "A natural idea of finding the layout would be formalizing the problem as an integer/linear program and setting the objective function as the social welfare function.\n",
    "However, there might exist cases where the algorithm is unable to access all information of humans and formalize the welfare-maximizing layout problem as a integer/linear program. \n",
    "For example,\n",
    "\n",
    "* The probability of human making mistakes is unknown. Even if the algorithm knows the ground-truth a human, it may be unclear how likely the human would mistake. For instance, when people are using an APP to search information, elder people might be more likely to miss some information than younger people, but it could be unclear to the algorithm that how large is the difference of their accuracies?\n",
    "* It is unclear that how valuable the items are for these humans. From a human's perspective, $x_1$ might be the same good as the second one, or it could be far better than the second one.\n",
    "\n",
    "Due to these issues, the formalization of the optimization problem will lack key components.\n",
    "To resolve them, we consider the scenario where it is possible for the algorithm to learn about these information through observing the feedback from the human.\n"
   ]
  },
  {
   "cell_type": "code",
   "execution_count": null,
   "metadata": {},
   "outputs": [],
   "source": [
    "def weighted_sample_with_fallback(items, probabilities, k):\n",
    "    items = np.array(items)\n",
    "    probabilities = np.array(probabilities)\n",
    "    \n",
    "    nonzero_mask = probabilities > 0\n",
    "    weighted_items = items[nonzero_mask]\n",
    "    weighted_probs = probabilities[nonzero_mask]\n",
    "    \n",
    "    selected = list(np.random.choice(weighted_items, size=min(k, len(weighted_items)), replace=False, p=weighted_probs / weighted_probs.sum()))\n",
    "    \n",
    "    if len(selected) < k:\n",
    "        remaining_items = [item for item in items if item not in selected]\n",
    "        additional = np.random.choice(remaining_items, size=k - len(selected), replace=False)\n",
    "        selected.extend(additional)\n",
    "    \n",
    "    return selected\n",
    "\n",
    "def top_k_items(items, weights, k):\n",
    "    sorted_items = [item for item, _ in sorted(zip(items, weights), key=lambda x: x[1], reverse=True)]\n",
    "    return sorted_items[:k]\n",
    "\n",
    "def gradient_descent_sw(T1, T2, delta, pi_h_stars, utlities, phis, human_distribution, items, k, verbose=False):\n",
    "    m = len(items)\n",
    "    n = len(human_distribution)\n",
    "\n",
    "    # initial layout x0 = (k/m, ..., k/m)\n",
    "    layout = np.array([1. /m for _ in range(m)]) \n",
    "    welfares = []\n",
    "\n",
    "    for t1 in range(T1):\n",
    "        gradient = np.zeros(m)\n",
    "        \n",
    "        for g in range(m):\n",
    "            # compute the gradient\n",
    "            layout_prime = layout.copy() + delta * np.eye(m)[g]\n",
    "            layout_prime /= np.sum(layout_prime)\n",
    "            derivative_of_increasing_xi = 0\n",
    "\n",
    "            for _ in range(T2):\n",
    "                # pick a random human\n",
    "                h = np.random.choice(range(n), p=human_distribution)\n",
    "                layout_items = weighted_sample_with_fallback(items, layout_prime, k)\n",
    "                layout_items_by_last_layout = weighted_sample_with_fallback(items, layout, k)\n",
    "                \n",
    "                # compute the gradient\n",
    "                D_h = Mallows(m, phis[h], pi_h_stars[h])\n",
    "                D_a_last = Mallows(m, 1, layout_items_by_last_layout + [j for j in items if j not in layout_items_by_last_layout], _fixed=True)\n",
    "                D_a = Mallows(m, 1, layout_items + [j for j in items if j not in layout_items], _fixed=True)\n",
    "                \n",
    "                joint_system_last = HumanAI(m, D_a_last, D_h)\n",
    "                joint_system = HumanAI(m, D_a, D_h)\n",
    "                \n",
    "                derivative_of_increasing_xi += joint_system.benefit_of_human_beyond_single_best(m, k, utlities[h]) - \\\n",
    "                    joint_system_last.benefit_of_human_beyond_single_best(m, k, utlities[h])\n",
    "            derivative_of_increasing_xi /= T2 * delta\n",
    "            gradient[g] = derivative_of_increasing_xi\n",
    "        \n",
    "        # update the layout\n",
    "        layout += delta * gradient\n",
    "        layout = np.clip(layout, 0, 1)\n",
    "        if verbose:\n",
    "            print(f\"Gradient: {gradient}\")\n",
    "            print(f\"Iteration {t1 + 1}:\", layout)\n",
    "        layout /= np.sum(layout)\n",
    "        observed_welfare = 0\n",
    "        layout_items = top_k_items(items, layout, k)\n",
    "        D_a = Mallows(m, 1, layout_items + [j for j in range(1, m+1) if j not in layout_items], _fixed=True)\n",
    "        for h in range(n):\n",
    "            D_h = Mallows(m, phis[h], pi_h_stars[h])\n",
    "            joint_system = HumanAI(m, D_a, D_h)\n",
    "            observed_welfare += human_distribution[h] * joint_system.benefit_of_human_beyond_single_best(m, k, utlities[h])        # print(f\"Iteration {t1 + 1} Observed welfare: {observed_welfare}\")\n",
    "        welfares.append(observed_welfare)\n",
    "\n",
    "    plt.plot(range(len(welfares)), welfares)\n",
    "    plt.xlabel(\"Iteration\")\n",
    "    plt.ylabel(\"Welfare\")\n",
    "    plt.title(\"Welfare over iterations\")\n",
    "    plt.grid()\n",
    "    plt.show()\n",
    "    print(\"Final layout: {}\".format(top_k_items(items, layout, k)))"
   ]
  },
  {
   "cell_type": "markdown",
   "metadata": {},
   "source": [
    "### Single Best Item"
   ]
  },
  {
   "cell_type": "code",
   "execution_count": 58,
   "metadata": {},
   "outputs": [
    {
     "name": "stdout",
     "output_type": "stream",
     "text": [
      "[[6, 10, 3, 8, 9, 4, 5, 7, 1, 2], [10, 4, 5, 3, 6, 7, 1, 8, 2, 9], [3, 6, 8, 9, 2, 1, 4, 7, 5, 10]]\n",
      "[[1, 0, 0, 0, 0, 0, 0, 0, 0, 0], [1, 0, 0, 0, 0, 0, 0, 0, 0, 0], [1, 0, 0, 0, 0, 0, 0, 0, 0, 0]]\n",
      "[0.31087761 0.40290252 0.28621987]\n"
     ]
    },
    {
     "data": {
      "image/png": "[encoded data removed]",
      "text/plain": [
       "<Figure size 640x480 with 1 Axes>"
      ]
     },
     "metadata": {},
     "output_type": "display_data"
    },
    {
     "name": "stdout",
     "output_type": "stream",
     "text": [
      "Final layout: [3, 10, 6]\n"
     ]
    }
   ],
   "source": [
    "T1 = 1000\n",
    "T2 = 50\n",
    "delta = 0.1\n",
    "\n",
    "m = 10 # number of items\n",
    "items = list(range(1, m + 1))\n",
    "n = 3 # three agents\n",
    "k = 3 # number of items to select\n",
    "\n",
    "## Prepare ground-truth rankings and phis for different misaligned humans\n",
    "pi_h_stars = [list(range(1, m + 1)) for _ in range(n)]\n",
    "utlities = [[1 if i == 0 else 0 for i in range(m)] for _ in range(n)]\n",
    "for i in range(n):\n",
    "    random.shuffle(pi_h_stars[i])\n",
    "phis = [random.uniform(0.1, 1) for _ in range(n)]\n",
    "human_distribution = [random.uniform(0.1, 1) for _ in range(n)]\n",
    "human_distribution /= np.sum(human_distribution)\n",
    "print(pi_h_stars)\n",
    "print(utlities)\n",
    "print(human_distribution)\n",
    "\n",
    "gradient_descent_sw(T1, T2, delta, pi_h_stars, utlities, phis, human_distribution, items, k)\n"
   ]
  },
  {
   "cell_type": "code",
   "execution_count": 57,
   "metadata": {},
   "outputs": [
    {
     "name": "stdout",
     "output_type": "stream",
     "text": [
      "[[4, 6, 1, 8, 3, 9, 5, 7, 10, 2], [8, 5, 6, 2, 7, 1, 4, 3, 10, 9], [2, 6, 7, 1, 9, 5, 10, 8, 3, 4]]\n",
      "[[0.37519114121825325, 0.31061025456856306, 0, 0, 0, 0, 0, 0, 0, 0], [0.42953292901318774, 0.2321258918450021, 0, 0, 0, 0, 0, 0, 0, 0], [0.6554142371025939, 0.030464133356363665, 0, 0, 0, 0, 0, 0, 0, 0]]\n",
      "[0.44893144 0.087008   0.46406056]\n"
     ]
    },
    {
     "data": {
      "image/png": "[encoded data removed]",
      "text/plain": [
       "<Figure size 640x480 with 1 Axes>"
      ]
     },
     "metadata": {},
     "output_type": "display_data"
    },
    {
     "name": "stdout",
     "output_type": "stream",
     "text": [
      "Final layout: [2, 4, 6]\n"
     ]
    }
   ],
   "source": [
    "T1 = 1000\n",
    "T2 = 50\n",
    "delta = 0.1\n",
    "\n",
    "m = 10 # number of items\n",
    "items = list(range(1, m + 1))\n",
    "n = 3 # three agents\n",
    "k = 3 # number of items to select\n",
    "\n",
    "## Prepare ground-truth rankings and phis for different misaligned humans\n",
    "pi_h_stars = [list(range(1, m + 1)) for _ in range(n)]\n",
    "utlities = [[random.uniform(0, 1) if i < 2 else 0 for i in range(m)] for _ in range(n)]\n",
    "for i in range(n):\n",
    "    random.shuffle(pi_h_stars[i])\n",
    "    utlities[i].sort(reverse=True)\n",
    "phis = [random.uniform(0.1, 1) for _ in range(n)]\n",
    "human_distribution = [random.uniform(0.1, 1) for _ in range(n)]\n",
    "human_distribution /= np.sum(human_distribution)\n",
    "print(pi_h_stars)\n",
    "print(utlities)\n",
    "print(human_distribution)\n",
    "\n",
    "gradient_descent_sw(T1, T2, delta, pi_h_stars, utlities, phis, human_distribution, items, k)\n"
   ]
  },
  {
   "cell_type": "markdown",
   "metadata": {},
   "source": [
    "## Unknown Ground-Truth\n",
    "\n",
    "However, the ground-truth rankings may not always known in advance to the algorithm, especially in scenarios that protect user privacy.\n",
    "\n",
    "To learn about humans' preference, algorithm usually adopt query-based learning to learn humans' preference.\n",
    "We suppose the humans are interacting with the algorithm in the following way:\n",
    "\n",
    "* At time $t$, a human comes with a type-$i$ human arriving with a probability of $p_i$.\n",
    "* The algorithm presents a set of items $S_t$ to that human. She selects her favourite one from the items (but she sometimes would make mistakes). The human will get a **postive** review if the item is perfect to her and a **negative** review otherwise.\n",
    "* The algorithm updates $S_t$ by always picking the items that human like the most\n",
    "\n"
   ]
  },
  {
   "cell_type": "code",
   "execution_count": 3,
   "metadata": {},
   "outputs": [
    {
     "name": "stdout",
     "output_type": "stream",
     "text": [
      "\u001b[94m[INFO] Number of humans 2\u001b[0m\n",
      "\u001b[94m[INFO] p_i: [0.62851802 0.37148198]\u001b[0m\n",
      "\u001b[94m[INFO] t: 0, benefits: [-0.6321492583604867, -0.6321492583604867]\u001b[0m\n",
      "\u001b[94m[INFO] t: 200, benefits: [0.36627696535629906, -0.6321492583604867]\u001b[0m\n",
      "\u001b[94m[INFO] t: 400, benefits: [0.36627696535629906, -0.6321492583604867]\u001b[0m\n",
      "\u001b[94m[INFO] t: 600, benefits: [0.36627696535629906, -0.6321492583604867]\u001b[0m\n",
      "\u001b[94m[INFO] t: 800, benefits: [0.3593302714709977, -0.6321492583604867]\u001b[0m\n",
      "\u001b[94m[INFO] Number of humans 3\u001b[0m\n",
      "\u001b[94m[INFO] p_i: [0.45437628 0.05007939 0.49554433]\u001b[0m\n",
      "\u001b[94m[INFO] t: 0, benefits: [0.3348507416395132, -0.6321492583604867, -0.6321492583604867]\u001b[0m\n",
      "\u001b[94m[INFO] t: 200, benefits: [0.2908507416395133, -0.6321492583604867, 0.35785074163951325]\u001b[0m\n",
      "\u001b[94m[INFO] t: 400, benefits: [0.2988507416395133, -0.6321492583604867, 0.35585074163951325]\u001b[0m\n",
      "\u001b[94m[INFO] t: 600, benefits: [0.24885074163951326, 0.35085074163951324, 0.3288507416395132]\u001b[0m\n",
      "\u001b[94m[INFO] t: 800, benefits: [0.2718507416395133, 0.35885074163951325, 0.3298507416395132]\u001b[0m\n",
      "\u001b[94m[INFO] Number of humans 4\u001b[0m\n",
      "\u001b[94m[INFO] p_i: [0.33539883 0.27490237 0.1368927  0.2528061 ]\u001b[0m\n",
      "\u001b[94m[INFO] t: 0, benefits: [-0.6321492583604867, -0.6321492583604867, -0.6321492583604867, -0.6321492583604867]\u001b[0m\n",
      "\u001b[94m[INFO] t: 200, benefits: [0.1918507416395132, 0.1828507416395132, 0.35885074163951325, 0.35285074163951324]\u001b[0m\n",
      "\u001b[94m[INFO] t: 400, benefits: [0.1788507416395133, 0.25985074163951327, 0.08985074163951323, 0.34585074163951324]\u001b[0m\n",
      "\u001b[94m[INFO] t: 600, benefits: [0.20585074163951322, 0.2768507416395133, 0.3208507416395132, 0.33785074163951323]\u001b[0m\n",
      "\u001b[94m[INFO] t: 800, benefits: [0.1868507416395132, 0.2808507416395133, 0.21885074163951324, 0.09085074163951323]\u001b[0m\n",
      "\u001b[94m[INFO] Number of humans 5\u001b[0m\n",
      "\u001b[94m[INFO] p_i: [0.3467792  0.34676603 0.01986551 0.14630446 0.14028479]\u001b[0m\n",
      "\u001b[94m[INFO] t: 0, benefits: [0.20385074163951322, 0.06185074163951321, 0.2808507416395133, 0.3098507416395132, 0.1828507416395132]\u001b[0m\n",
      "\u001b[94m[INFO] t: 200, benefits: [0.34685074163951324, 0.09485074163951324, -0.6321492583604867, 0.33885074163951323, 0.1748507416395133]\u001b[0m\n",
      "\u001b[94m[INFO] t: 400, benefits: [0.34085074163951323, 0.11685074163951326, -0.6321492583604867, 0.33785074163951323, 0.1768507416395133]\u001b[0m\n",
      "\u001b[94m[INFO] t: 600, benefits: [0.20385074163951322, 0.08985074163951323, 0.25185074163951326, 0.3058507416395132, 0.21185074163951323]\u001b[0m\n",
      "\u001b[94m[INFO] t: 800, benefits: [0.34185074163951323, 0.07685074163951322, -0.6321492583604867, 0.35285074163951324, 0.1558507416395133]\u001b[0m\n"
     ]
    }
   ],
   "source": [
    "m = 10\n",
    "phi = 1\n",
    "for num_of_humans in range(2, 6):\n",
    "    info(f\"Number of humans {num_of_humans}\")\n",
    "    D_hs = []\n",
    "    \n",
    "    ## The probability of every type person arriving.\n",
    "    ps = np.array([random.random() for _ in range(num_of_humans)])\n",
    "    ps /= np.sum(ps)\n",
    "    info(\"p_i: {}\".format(ps))\n",
    "\n",
    "    ## Generating ground-truth\n",
    "    for _ in range(num_of_humans):\n",
    "        pi_h_star = list(range(1, m + 1))\n",
    "        random.shuffle(pi_h_star)\n",
    "        D_hs.append(Mallows(m, phi, pi_h_star))\n",
    "\n",
    "    ## 1000 interactions between the algorithm and these humans\n",
    "    joint_system = MultiHumanAI(m, num_of_humans, D_hs, ps)\n",
    "    joint_system.interaction_with_unknown_distribution(1000, 200)"
   ]
  },
  {
   "cell_type": "markdown",
   "metadata": {},
   "source": [
    "## Limitation\n",
    "\n",
    "However, the above query-based learning algorithm still has limitation. If a $p_i$ is very small, then algorithm has a very low probability of meeting a type-$i$ human.\n",
    "Thus, the algorithm cannot learn the top item of the $i$-th human very well.\n",
    "\n",
    "For example, in the above experiment with $5$ agents. The third human has a probability of $0.0198$ to appear, while is relatively low compared to other humans. As a result, her utility is still negative ($-0.632$) at the end of interaction.\n",
    "So it is still possible that that human **only gets hurt** from the collaboration.\n",
    "\n",
    "This problem also has widespread manifestations in real-world scenarios. For example, for elderly users who do not frequently use smartphones, how can AI-algorithm ensure that their preferences are met?\n",
    "\n"
   ]
  }
 ],
 "metadata": {
  "kernelspec": {
   "display_name": "Python 3",
   "language": "python",
   "name": "python3"
  },
  "language_info": {
   "codemirror_mode": {
    "name": "ipython",
    "version": 3
   },
   "file_extension": ".py",
   "mimetype": "text/x-python",
   "name": "python",
   "nbconvert_exporter": "python",
   "pygments_lexer": "ipython3",
   "version": "3.9.6"
  }
 },
 "nbformat": 4,
 "nbformat_minor": 2
}
